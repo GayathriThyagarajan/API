{
 "cells": [
  {
   "cell_type": "code",
   "execution_count": 11,
   "metadata": {},
   "outputs": [],
   "source": [
    "import httplib2 as lib2 \n",
    "from oauth2client import client\n",
    "from googleapiclient.discovery import build as google_build\n",
    "import pandas\n",
    "import numpy\n",
    "import json\n",
    "from datetime import datetime, timedelta"
   ]
  },
  {
   "cell_type": "code",
   "execution_count": null,
   "metadata": {},
   "outputs": [],
   "source": [
    "access_token = \"access token\"\n",
    "refresh_token = \"refresh token\"\n",
    "client_id = \"client id\"\n",
    "client_secret = \"client secret\"\n",
    "token_uri = 'https://accounts.google.com/o/oauth2/token'\n",
    "token_expiry = datetime.now() - timedelta(days = 1)\n",
    "user_agent = 'my-user-agent/1.0'\n",
    "credentials = client.GoogleCredentials(access_token=access_token, refresh_token=refresh_token, \n",
    "                                       client_id=client_id, client_secret=client_secret, \n",
    "                                       token_uri=token_uri, token_expiry=token_expiry, \n",
    "                                       user_agent=user_agent)\n",
    "  \n",
    "http = lib2.Http()\n",
    "authorized = credentials.authorize(http)"
   ]
  },
  {
   "cell_type": "code",
   "execution_count": null,
   "metadata": {},
   "outputs": [],
   "source": [
    "api_name = 'analyticsreporting'\n",
    "api_version = 'v4'\n",
    "api_client = google_build(serviceName=api_name, version=api_version, http=authorized)\n",
    "sample_request = {\n",
    "      'viewId': '125163355',\n",
    "      'dateRanges': {\n",
    "          'startDate': datetime.strftime(datetime.now() - timedelta(days = 30),'%Y-%m-%d'),\n",
    "          'endDate': datetime.strftime(datetime.now(),'%Y-%m-%d')\n",
    "      },\n",
    "      'dimensions': [{'name': 'ga:date'}],\n",
    "      'metrics': [{'expression': 'ga:sessions'}]\n",
    "    }\n",
    "\n",
    "response = api_client.reports().batchGet(\n",
    "      body={\n",
    "        'reportRequests': sample_request\n",
    "      }).execute()\n",
    "print(response)\n"
   ]
  }
 ],
 "metadata": {
  "kernelspec": {
   "display_name": "Python 3",
   "language": "python",
   "name": "python3"
  },
  "language_info": {
   "codemirror_mode": {
    "name": "ipython",
    "version": 3
   },
   "file_extension": ".py",
   "mimetype": "text/x-python",
   "name": "python",
   "nbconvert_exporter": "python",
   "pygments_lexer": "ipython3",
   "version": "3.7.1"
  }
 },
 "nbformat": 4,
 "nbformat_minor": 2
}
